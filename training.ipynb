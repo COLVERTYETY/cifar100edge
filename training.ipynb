{
 "cells": [
  {
   "cell_type": "code",
   "execution_count": 1,
   "metadata": {},
   "outputs": [],
   "source": [
    "# python kernel check\n",
    "import sys\n",
    "assert sys.version_info >= (3, 5)"
   ]
  },
  {
   "cell_type": "code",
   "execution_count": 2,
   "metadata": {},
   "outputs": [
    {
     "data": {
      "text/plain": [
       "<torch.autograd.anomaly_mode.set_detect_anomaly at 0x7f7944222a40>"
      ]
     },
     "execution_count": 2,
     "metadata": {},
     "output_type": "execute_result"
    }
   ],
   "source": [
    "import torch\n",
    "import torchvision\n",
    "import torch.nn as nn\n",
    "import torch.nn.functional as F\n",
    "import torch.optim as optim\n",
    "import torchvision.transforms as T\n",
    "from torch.utils.data import DataLoader\n",
    "from torchvision import datasets, transforms\n",
    "import torchsummary as summary\n",
    "import pandas as pd\n",
    "import numpy as np\n",
    "import matplotlib.pyplot as plt\n",
    "import time\n",
    "from tqdm.notebook import tqdm\n",
    "\n",
    "torch.backends.cuda.matmul.allow_tf32 = True\n",
    "torch.backends.cudnn.allow_tf32 = True\n",
    "torch.backends.cudnn.benchmark = True\n",
    "torch.autograd.profiler.profile(enabled=False)\n",
    "torch.autograd.profiler.emit_nvtx(enabled=False)\n",
    "torch.autograd.set_detect_anomaly(mode=False)"
   ]
  },
  {
   "cell_type": "code",
   "execution_count": 3,
   "metadata": {},
   "outputs": [
    {
     "name": "stdout",
     "output_type": "stream",
     "text": [
      "Files already downloaded and verified\n",
      "Files already downloaded and verified\n"
     ]
    },
    {
     "data": {
      "image/png": "[encoded data removed]",
      "text/plain": [
       "<Figure size 1440x720 with 1 Axes>"
      ]
     },
     "metadata": {
      "needs_background": "light"
     },
     "output_type": "display_data"
    },
    {
     "name": "stdout",
     "output_type": "stream",
     "text": [
      "['apple', 'aquarium_fish', 'baby', 'bear', 'beaver', 'bed', 'bee', 'beetle', 'bicycle', 'bottle', 'bowl', 'boy', 'bridge', 'bus', 'butterfly', 'camel', 'can', 'castle', 'caterpillar', 'cattle', 'chair', 'chimpanzee', 'clock', 'cloud', 'cockroach', 'couch', 'crab', 'crocodile', 'cup', 'dinosaur', 'dolphin', 'elephant', 'flatfish', 'forest', 'fox', 'girl', 'hamster', 'house', 'kangaroo', 'keyboard', 'lamp', 'lawn_mower', 'leopard', 'lion', 'lizard', 'lobster', 'man', 'maple_tree', 'motorcycle', 'mountain', 'mouse', 'mushroom', 'oak_tree', 'orange', 'orchid', 'otter', 'palm_tree', 'pear', 'pickup_truck', 'pine_tree', 'plain', 'plate', 'poppy', 'porcupine', 'possum', 'rabbit', 'raccoon', 'ray', 'road', 'rocket', 'rose', 'sea', 'seal', 'shark', 'shrew', 'skunk', 'skyscraper', 'snail', 'snake', 'spider', 'squirrel', 'streetcar', 'sunflower', 'sweet_pepper', 'table', 'tank', 'telephone', 'television', 'tiger', 'tractor', 'train', 'trout', 'tulip', 'turtle', 'wardrobe', 'whale', 'willow_tree', 'wolf', 'woman', 'worm']\n"
     ]
    }
   ],
   "source": [
    "# load the CIFAR 100 dataset\n",
    "# transform = transforms.Compose([\n",
    "#     transforms.ToTensor(),\n",
    "#     transforms.Normalize((0.5, 0.5, 0.5), (0.5, 0.5, 0.5))\n",
    "# ])\n",
    "\n",
    "BATCH = 32\n",
    "\n",
    "original_trainset = datasets.CIFAR100(root='./data', train=True, download=True, transform=T.ToTensor())\n",
    "testset = datasets.CIFAR100(root='./data', train=False, download=True, transform=T.ToTensor())\n",
    "\n",
    "percentage = 0.6\n",
    "train_size = int(percentage * len(original_trainset))\n",
    "test_size = int(percentage * len(testset))\n",
    "trainset, _ = torch.utils.data.random_split(original_trainset, [train_size, len(original_trainset) - train_size])\n",
    "testset, _ = torch.utils.data.random_split(testset, [test_size, len(testset) - test_size])\n",
    "\n",
    "trainloader = DataLoader(trainset, batch_size=BATCH, shuffle=True, num_workers=2)\n",
    "testloader = DataLoader(testset, batch_size=BATCH, shuffle=False, num_workers=2)\n",
    "\n",
    "\n",
    "# check distribution of classes\n",
    "trainset_distribution = np.zeros(100)\n",
    "for i in range(len(trainset)):\n",
    "    trainset_distribution[trainset[i][1]] += 1\n",
    "\n",
    "testset_distribution = np.zeros(100)\n",
    "for i in range(len(testset)):\n",
    "    testset_distribution[testset[i][1]] += 1\n",
    "\n",
    "plt.figure(figsize=(20, 10))\n",
    "plt.bar(np.arange(100), trainset_distribution, label='train')\n",
    "plt.bar(np.arange(100), testset_distribution, label='test')\n",
    "plt.legend()\n",
    "plt.show()\n",
    "\n",
    "# get the class names from the dataset\n",
    "classes = original_trainset.classes\n",
    "print(classes)\n"
   ]
  },
  {
   "cell_type": "code",
   "execution_count": 4,
   "metadata": {},
   "outputs": [
    {
     "data": {
      "image/png": "[encoded data removed]",
      "text/plain": [
       "<Figure size 864x216 with 3 Axes>"
      ]
     },
     "metadata": {
      "needs_background": "light"
     },
     "output_type": "display_data"
    }
   ],
   "source": [
    "#  display 3 images from the dataset at random\n",
    "\n",
    "plt.figure(figsize=(12, 3))\n",
    "for i in range(3):\n",
    "    plt.subplot(1, 3, i+1)\n",
    "    img, label = trainset[np.random.randint(len(trainset))]\n",
    "    plt.imshow(img.permute(1, 2, 0))\n",
    "    plt.title(classes[label])\n",
    "    plt.axis('off')\n",
    "plt.show()"
   ]
  },
  {
   "cell_type": "code",
   "execution_count": 5,
   "metadata": {},
   "outputs": [
    {
     "name": "stdout",
     "output_type": "stream",
     "text": [
      "torch.Size([2, 3, 32, 32])\n",
      "torch.Size([2, 6, 30, 30])\n",
      "torch.Size([2, 6, 15, 15])\n",
      "torch.Size([2, 9, 13, 13])\n",
      "torch.Size([2, 12, 11, 11])\n",
      "torch.Size([2, 3, 9, 9])\n",
      "torch.Size([2, 243])\n",
      "torch.Size([2, 100])\n",
      "----------------------------------------------------------------\n",
      "        Layer (type)               Output Shape         Param #\n",
      "================================================================\n",
      "            Conv2d-1            [-1, 6, 30, 30]             168\n",
      "              SELU-2            [-1, 6, 30, 30]               0\n",
      "         MaxPool2d-3            [-1, 6, 15, 15]               0\n",
      "            Conv2d-4            [-1, 9, 13, 13]             495\n",
      "              SELU-5            [-1, 9, 13, 13]               0\n",
      "            Conv2d-6           [-1, 12, 11, 11]             984\n",
      "              SELU-7           [-1, 12, 11, 11]               0\n",
      "            Conv2d-8              [-1, 3, 9, 9]             327\n",
      "              SELU-9              [-1, 3, 9, 9]               0\n",
      "           Linear-10                  [-1, 100]          24,400\n",
      "================================================================\n",
      "Total params: 26,374\n",
      "Trainable params: 26,374\n",
      "Non-trainable params: 0\n",
      "----------------------------------------------------------------\n",
      "Input size (MB): 0.01\n",
      "Forward/backward pass size (MB): 0.14\n",
      "Params size (MB): 0.10\n",
      "Estimated Total Size (MB): 0.25\n",
      "----------------------------------------------------------------\n"
     ]
    }
   ],
   "source": [
    "#  define the network architecture\n",
    "\n",
    "class Net(nn.Module):\n",
    "    def __init__(self, ch1:int, ch2:int, ch3:int, ch4:int) -> None:\n",
    "        super().__init__()\n",
    "        self.conv1 = nn.Conv2d(3, ch1, 3)\n",
    "        self.pool = nn.MaxPool2d(2, 2)\n",
    "        self.conv2 = nn.Conv2d(ch1, ch2, 3)\n",
    "        self.conv3 = nn.Conv2d(ch2, ch3, 3)\n",
    "        self.conv4 = nn.Conv2d(ch3, ch4, 3)\n",
    "        self.lin_shape = ch4*9*9\n",
    "        self.fc1 = nn.Linear(self.lin_shape, 100)\n",
    "        # self.fc2 = nn.Linear(100, 100)\n",
    "        # self.fc3 = nn.Linear(100, 100)\n",
    "        self.act = nn.SELU()\n",
    "\n",
    "        self.name = f\"Net({ch1}_{ch2}_{ch3}_{ch4})\"\n",
    "        self.debug = False\n",
    "\n",
    "    def forward(self, x):\n",
    "        if self.debug: print(x.shape)\n",
    "        x = self.act(self.conv1(x))\n",
    "        if self.debug: print(x.shape)\n",
    "        x = self.pool(x)\n",
    "        if self.debug: print(x.shape)\n",
    "        x = self.act(self.conv2(x))\n",
    "        # if self.debug: print(x.shape)\n",
    "        # x = self.pool(x)\n",
    "        if self.debug: print(x.shape)\n",
    "        x = self.act(self.conv3(x))\n",
    "        if self.debug: print(x.shape)\n",
    "        # x = self.pool(x)\n",
    "        # if self.debug: print(x.shape)\n",
    "        x = self.act(self.conv4(x))\n",
    "        if self.debug: print(x.shape)\n",
    "        x = x.view(-1, self.lin_shape)\n",
    "        if self.debug: print(x.shape)\n",
    "        x = self.fc1(x)\n",
    "        if self.debug: print(x.shape)\n",
    "\n",
    "        return x\n",
    "\n",
    "#  define device to use for training\n",
    "mydev = torch.device(\"cuda:0\" if torch.cuda.is_available() else \"cpu\")\n",
    "\n",
    "net = Net(6,9,12,3).to(mydev)\n",
    "\n",
    "net.debug = True\n",
    "summary.summary(net, (3, 32, 32))\n",
    "net.debug = False\n"
   ]
  },
  {
   "cell_type": "code",
   "execution_count": 6,
   "metadata": {},
   "outputs": [],
   "source": [
    "#  define the loss function and optimizer and scheduler\n",
    "\n",
    "total_epochs = 30\n",
    "\n",
    "criterion = nn.CrossEntropyLoss().to(mydev)\n",
    "optimizer = optim.SGD(net.parameters(), lr=0.005, momentum=0.9) # SGD generalises better than Adam, but is slower\n",
    "# scheduler = optim.lr_scheduler.OneCycleLR(optimizer, max_lr=0.005, steps_per_epoch=len(trainloader), epochs=total_epochs)\n",
    "# scheduler = optim.lr_scheduler.StepLR(optimizer, step_size=5, gamma=0.9)\n",
    "# scheduler = optim.lr_scheduler.ReduceLROnPlateau(optimizer, mode='min', factor=0.1, patience=2, verbose=True)\n",
    "scheduler = optim.lr_scheduler.CosineAnnealingLR(optimizer, T_max=total_epochs, eta_min=0.00001)\n"
   ]
  },
  {
   "cell_type": "code",
   "execution_count": 7,
   "metadata": {},
   "outputs": [],
   "source": [
    "# training and testing functions\n",
    "\n",
    "def step(dataloader, model, loss_fn, optimizer=None, scheduler=None, train=True):\n",
    "    size = len(dataloader.dataset)\n",
    "    running_loss = 0.0\n",
    "    correct = 0\n",
    "    model.train(train)\n",
    "    with torch.set_grad_enabled(train):\n",
    "        with tqdm(total=len(dataloader)) as progress_bar:\n",
    "            for batch, (X, y) in enumerate(dataloader):\n",
    "                X, y = X.to(mydev), y.to(mydev)\n",
    "\n",
    "                # Compute prediction and loss\n",
    "                pred = model(X)\n",
    "                loss = loss_fn(pred, y)\n",
    "\n",
    "                if train:\n",
    "                    # Backpropagation\n",
    "                    optimizer.zero_grad(set_to_none=True)\n",
    "                    loss.backward()\n",
    "                    optimizer.step()\n",
    "                    scheduler.step()\n",
    "\n",
    "                running_loss += loss.item()\n",
    "                correct += (pred.argmax(1) == y).type(torch.float).sum().item()\n",
    "                loss, current = loss.item(), batch * len(X)\n",
    "                progress_bar.set_postfix_str(f\"loss: {loss:>7f}  [{current:>5d}/{size:>5d}]\")\n",
    "                progress_bar.update(1)\n",
    "            \n",
    "            current = batch * len(X)\n",
    "            progress_bar.set_postfix_str(f\"{'Training' if train else 'Testing'} Accuracy: {(100*correct/size):>0.1f}%,\\\n",
    "                Avg loss: {running_loss/len(dataloader):>8f} loss: {loss:>7f}  [{current:>5d}/{size:>5d}]\")\n",
    "            progress_bar.update(1)\n",
    "            # if train and scheduler is not None:\n",
    "                # scheduler.step(running_loss/len(dataloader))\n",
    "\n",
    "    return (running_loss/len(dataloader), 100*correct/size)\n",
    "\n"
   ]
  },
  {
   "cell_type": "code",
   "execution_count": 14,
   "metadata": {},
   "outputs": [],
   "source": [
    "# train loop\n",
    "\n",
    "\n",
    "def train_loop(dataloader:dict, net, criterion, optimizer, scheduler, total_epochs=1):\n",
    "    best_test_loss = np.inf\n",
    "\n",
    "    history = {'train_loss': [], 'train_acc': [], 'test_loss': [], 'test_acc': [], 'lr': []}\n",
    "\n",
    "    #  train the network\n",
    "    for t in tqdm(range(total_epochs)):\n",
    "        \n",
    "        #  train step\n",
    "        res = step(dataloader[\"train\"], net, criterion, optimizer, scheduler, train=True)\n",
    "        history['train_loss'].append(res[0])\n",
    "        history['train_acc'].append(res[1])\n",
    "        # history['lr'].append(scheduler.get_last_lr()[0])\n",
    "        # history['lr'].append(optimizer.param_groups[0]['lr'])\n",
    "        history['lr'].append(scheduler.get_last_lr()[0])\n",
    "        #  test step\n",
    "        res = step(dataloader[\"test\"], net, criterion, train=False)\n",
    "        history['test_loss'].append(res[0])\n",
    "        history['test_acc'].append(res[1])\n",
    "        if res[0] < best_test_loss:\n",
    "            best_test_loss = res[0]\n",
    "            torch.save(net.state_dict(), f'model.pt')\n",
    "    \n",
    "    return history\n",
    "    \n",
    "    "
   ]
  },
  {
   "cell_type": "code",
   "execution_count": 16,
   "metadata": {},
   "outputs": [
    {
     "data": {
      "application/vnd.jupyter.widget-view+json": {
       "model_id": "c40b7317779f4cb1b8865a5dc20cbb8a",
       "version_major": 2,
       "version_minor": 0
      },
      "text/plain": [
       "  0%|          | 0/5 [00:00<?, ?it/s]"
      ]
     },
     "metadata": {},
     "output_type": "display_data"
    },
    {
     "data": {
      "application/vnd.jupyter.widget-view+json": {
       "model_id": "fee0e1a7d1444e258d2ca0608d99ca0f",
       "version_major": 2,
       "version_minor": 0
      },
      "text/plain": [
       "  0%|          | 0/938 [00:00<?, ?it/s]"
      ]
     },
     "metadata": {},
     "output_type": "display_data"
    },
    {
     "data": {
      "application/vnd.jupyter.widget-view+json": {
       "model_id": "3ff8231e6cb1415aad5d899599c5d862",
       "version_major": 2,
       "version_minor": 0
      },
      "text/plain": [
       "  0%|          | 0/188 [00:00<?, ?it/s]"
      ]
     },
     "metadata": {},
     "output_type": "display_data"
    },
    {
     "data": {
      "application/vnd.jupyter.widget-view+json": {
       "model_id": "0aa88c4511b34e4db53edead2c221cda",
       "version_major": 2,
       "version_minor": 0
      },
      "text/plain": [
       "  0%|          | 0/938 [00:00<?, ?it/s]"
      ]
     },
     "metadata": {},
     "output_type": "display_data"
    },
    {
     "data": {
      "application/vnd.jupyter.widget-view+json": {
       "model_id": "7f107dd78635446780d00b6b378b1298",
       "version_major": 2,
       "version_minor": 0
      },
      "text/plain": [
       "  0%|          | 0/188 [00:00<?, ?it/s]"
      ]
     },
     "metadata": {},
     "output_type": "display_data"
    },
    {
     "data": {
      "application/vnd.jupyter.widget-view+json": {
       "model_id": "8e8176fc284b42de93c501abe1e105c8",
       "version_major": 2,
       "version_minor": 0
      },
      "text/plain": [
       "  0%|          | 0/938 [00:00<?, ?it/s]"
      ]
     },
     "metadata": {},
     "output_type": "display_data"
    },
    {
     "data": {
      "application/vnd.jupyter.widget-view+json": {
       "model_id": "4ba101dd479c46c9b087bf0be4e3aaf4",
       "version_major": 2,
       "version_minor": 0
      },
      "text/plain": [
       "  0%|          | 0/188 [00:00<?, ?it/s]"
      ]
     },
     "metadata": {},
     "output_type": "display_data"
    },
    {
     "data": {
      "application/vnd.jupyter.widget-view+json": {
       "model_id": "8592e70720974b08b332048cb1b669c8",
       "version_major": 2,
       "version_minor": 0
      },
      "text/plain": [
       "  0%|          | 0/938 [00:00<?, ?it/s]"
      ]
     },
     "metadata": {},
     "output_type": "display_data"
    },
    {
     "data": {
      "application/vnd.jupyter.widget-view+json": {
       "model_id": "adb7e9e69de24277bb5cbb9537fde608",
       "version_major": 2,
       "version_minor": 0
      },
      "text/plain": [
       "  0%|          | 0/188 [00:00<?, ?it/s]"
      ]
     },
     "metadata": {},
     "output_type": "display_data"
    },
    {
     "data": {
      "application/vnd.jupyter.widget-view+json": {
       "model_id": "ba7b865299a040b593f430598152f582",
       "version_major": 2,
       "version_minor": 0
      },
      "text/plain": [
       "  0%|          | 0/938 [00:00<?, ?it/s]"
      ]
     },
     "metadata": {},
     "output_type": "display_data"
    },
    {
     "data": {
      "application/vnd.jupyter.widget-view+json": {
       "model_id": "d338b0316b61424f833cb1f022af3199",
       "version_major": 2,
       "version_minor": 0
      },
      "text/plain": [
       "  0%|          | 0/188 [00:00<?, ?it/s]"
      ]
     },
     "metadata": {},
     "output_type": "display_data"
    },
    {
     "name": "stdout",
     "output_type": "stream",
     "text": [
      "ch1: 3, ch2: 3, ch3: 3, ch4: 3, train_loss: 3.86851617013976, train_acc: 12.183333333333334, test_loss: 3.8628042035914483, test_acc: 12.75, lr: 0.005000000000003618\n"
     ]
    },
    {
     "name": "stderr",
     "output_type": "stream",
     "text": [
      "/tmp/ipykernel_121427/3642532365.py:17: FutureWarning: The frame.append method is deprecated and will be removed from pandas in a future version. Use pandas.concat instead.\n",
      "  df = df.append({\"ch1\": ch1, \"ch2\": ch2, \"ch3\": ch3, \"ch4\": ch4, \"train_loss\": history['train_loss'], \"train_acc\": history['train_acc'], \"test_loss\": history['test_loss'], \"test_acc\": history['test_acc'], \"lr\": history['lr']}, ignore_index=True)\n"
     ]
    },
    {
     "data": {
      "application/vnd.jupyter.widget-view+json": {
       "model_id": "9e03eb146aae4ca1a5f35df8e70eefc0",
       "version_major": 2,
       "version_minor": 0
      },
      "text/plain": [
       "  0%|          | 0/5 [00:00<?, ?it/s]"
      ]
     },
     "metadata": {},
     "output_type": "display_data"
    },
    {
     "data": {
      "application/vnd.jupyter.widget-view+json": {
       "model_id": "7dc64722923542179036d1caefa403a0",
       "version_major": 2,
       "version_minor": 0
      },
      "text/plain": [
       "  0%|          | 0/938 [00:00<?, ?it/s]"
      ]
     },
     "metadata": {},
     "output_type": "display_data"
    },
    {
     "data": {
      "application/vnd.jupyter.widget-view+json": {
       "model_id": "c0c5297201c34983af1927c061597876",
       "version_major": 2,
       "version_minor": 0
      },
      "text/plain": [
       "  0%|          | 0/188 [00:00<?, ?it/s]"
      ]
     },
     "metadata": {},
     "output_type": "display_data"
    },
    {
     "data": {
      "application/vnd.jupyter.widget-view+json": {
       "model_id": "dcc83550673642ad86b107cae1d03d47",
       "version_major": 2,
       "version_minor": 0
      },
      "text/plain": [
       "  0%|          | 0/938 [00:00<?, ?it/s]"
      ]
     },
     "metadata": {},
     "output_type": "display_data"
    },
    {
     "data": {
      "application/vnd.jupyter.widget-view+json": {
       "model_id": "25a153350bf24433896f735459442de4",
       "version_major": 2,
       "version_minor": 0
      },
      "text/plain": [
       "  0%|          | 0/188 [00:00<?, ?it/s]"
      ]
     },
     "metadata": {},
     "output_type": "display_data"
    },
    {
     "data": {
      "application/vnd.jupyter.widget-view+json": {
       "model_id": "1467e38a692b40e9a2fc2ee108631090",
       "version_major": 2,
       "version_minor": 0
      },
      "text/plain": [
       "  0%|          | 0/938 [00:00<?, ?it/s]"
      ]
     },
     "metadata": {},
     "output_type": "display_data"
    },
    {
     "data": {
      "application/vnd.jupyter.widget-view+json": {
       "model_id": "c823cfc8530c48cca340002d6a7b2260",
       "version_major": 2,
       "version_minor": 0
      },
      "text/plain": [
       "  0%|          | 0/188 [00:00<?, ?it/s]"
      ]
     },
     "metadata": {},
     "output_type": "display_data"
    },
    {
     "data": {
      "application/vnd.jupyter.widget-view+json": {
       "model_id": "71bd406100e543c4924a290a62873ce5",
       "version_major": 2,
       "version_minor": 0
      },
      "text/plain": [
       "  0%|          | 0/938 [00:00<?, ?it/s]"
      ]
     },
     "metadata": {},
     "output_type": "display_data"
    },
    {
     "data": {
      "application/vnd.jupyter.widget-view+json": {
       "model_id": "3998aaa024124a67bde267afd47c6a50",
       "version_major": 2,
       "version_minor": 0
      },
      "text/plain": [
       "  0%|          | 0/188 [00:00<?, ?it/s]"
      ]
     },
     "metadata": {},
     "output_type": "display_data"
    },
    {
     "data": {
      "application/vnd.jupyter.widget-view+json": {
       "model_id": "63e937c4229c48dfacb5f448fb35acce",
       "version_major": 2,
       "version_minor": 0
      },
      "text/plain": [
       "  0%|          | 0/938 [00:00<?, ?it/s]"
      ]
     },
     "metadata": {},
     "output_type": "display_data"
    },
    {
     "data": {
      "application/vnd.jupyter.widget-view+json": {
       "model_id": "a357172d509c42838013459b53d6e6ba",
       "version_major": 2,
       "version_minor": 0
      },
      "text/plain": [
       "  0%|          | 0/188 [00:00<?, ?it/s]"
      ]
     },
     "metadata": {},
     "output_type": "display_data"
    },
    {
     "name": "stdout",
     "output_type": "stream",
     "text": [
      "ch1: 3, ch2: 3, ch3: 3, ch4: 6, train_loss: 3.745291874861158, train_acc: 14.47, test_loss: 3.770901972943164, test_acc: 14.15, lr: 0.005000000000003618\n"
     ]
    },
    {
     "name": "stderr",
     "output_type": "stream",
     "text": [
      "/tmp/ipykernel_121427/3642532365.py:17: FutureWarning: The frame.append method is deprecated and will be removed from pandas in a future version. Use pandas.concat instead.\n",
      "  df = df.append({\"ch1\": ch1, \"ch2\": ch2, \"ch3\": ch3, \"ch4\": ch4, \"train_loss\": history['train_loss'], \"train_acc\": history['train_acc'], \"test_loss\": history['test_loss'], \"test_acc\": history['test_acc'], \"lr\": history['lr']}, ignore_index=True)\n"
     ]
    },
    {
     "data": {
      "application/vnd.jupyter.widget-view+json": {
       "model_id": "cfa923de6241461ead2c94c605f1b8aa",
       "version_major": 2,
       "version_minor": 0
      },
      "text/plain": [
       "  0%|          | 0/5 [00:00<?, ?it/s]"
      ]
     },
     "metadata": {},
     "output_type": "display_data"
    },
    {
     "data": {
      "application/vnd.jupyter.widget-view+json": {
       "model_id": "7c8e612e6cad47a99a99f71153cc0509",
       "version_major": 2,
       "version_minor": 0
      },
      "text/plain": [
       "  0%|          | 0/938 [00:00<?, ?it/s]"
      ]
     },
     "metadata": {},
     "output_type": "display_data"
    },
    {
     "data": {
      "application/vnd.jupyter.widget-view+json": {
       "model_id": "75f0eee082d54378b3e72f29175addc6",
       "version_major": 2,
       "version_minor": 0
      },
      "text/plain": [
       "  0%|          | 0/188 [00:00<?, ?it/s]"
      ]
     },
     "metadata": {},
     "output_type": "display_data"
    },
    {
     "data": {
      "application/vnd.jupyter.widget-view+json": {
       "model_id": "0eb43b2ebb674af0ada14e245d4acff6",
       "version_major": 2,
       "version_minor": 0
      },
      "text/plain": [
       "  0%|          | 0/938 [00:00<?, ?it/s]"
      ]
     },
     "metadata": {},
     "output_type": "display_data"
    }
   ],
   "source": [
    "#  explore the space of hyperparameters\n",
    "\n",
    "df = pd.DataFrame(columns=[\"ch1\", \"ch2\", \"ch3\", \"ch4\", \"train_loss\", \"train_acc\", \"test_loss\", \"test_acc\", \"lr\"])\n",
    "\n",
    "dataloader = {\"train\": trainloader, \"test\": testloader}\n",
    "\n",
    "for ch1 in [3, 6, 9, 12]:\n",
    "    for ch2 in [3, 6, 9, 12]:\n",
    "        for ch3 in [3, 6, 9, 12]:\n",
    "            for ch4 in [3, 6, 9, 12]:\n",
    "                net = Net(ch1, ch2, ch3, ch4).to(mydev)\n",
    "                explore_epochs = 5\n",
    "                # reset the optimizer and scheduler\n",
    "                optimizer = optim.SGD(net.parameters(), lr=0.005, momentum=0.9)\n",
    "                scheduler = optim.lr_scheduler.CosineAnnealingLR(optimizer, T_max=explore_epochs, eta_min=0.00001)\n",
    "                history = train_loop(dataloader, net, criterion, optimizer, scheduler, total_epochs=explore_epochs)\n",
    "                df = df.append({\"ch1\": ch1, \"ch2\": ch2, \"ch3\": ch3, \"ch4\": ch4, \"train_loss\": history['train_loss'], \"train_acc\": history['train_acc'], \"test_loss\": history['test_loss'], \"test_acc\": history['test_acc'], \"lr\": history['lr']}, ignore_index=True)\n",
    "                df.to_csv(\"df.csv\", index=False)\n",
    "                print(f\"ch1: {ch1}, ch2: {ch2}, ch3: {ch3}, ch4: {ch4}, train_loss: {history['train_loss'][-1]}, train_acc: {history['train_acc'][-1]}, test_loss: {history['test_loss'][-1]}, test_acc: {history['test_acc'][-1]}, lr: {history['lr'][-1]}\")\n",
    "\n",
    "df.to_csv(\"df.csv\", index=False)\n",
    "df"
   ]
  },
  {
   "cell_type": "code",
   "execution_count": null,
   "metadata": {},
   "outputs": [],
   "source": [
    "#  graph the results\n",
    "\n",
    "df = pd.read_csv(\"df.csv\")\n",
    "\n",
    "fig, ax = plt.subplots(1, 2, figsize=(20, 10))\n",
    "ax[0].plot(df[\"ch1\"], df[\"train_loss\"], label=\"train_loss\")\n",
    "ax[0].plot(df[\"ch1\"], df[\"test_loss\"], label=\"test_loss\")\n",
    "ax[0].set_xlabel(\"ch1\")\n",
    "ax[0].set_ylabel(\"loss\")\n",
    "ax[0].legend()\n",
    "ax[1].plot(df[\"ch1\"], df[\"train_acc\"], label=\"train_acc\")\n",
    "ax[1].plot(df[\"ch1\"], df[\"test_acc\"], label=\"test_acc\")\n",
    "ax[1].set_xlabel(\"ch1\")\n",
    "ax[1].set_ylabel(\"accuracy\")\n",
    "ax[1].legend()\n",
    "\n",
    "fig, ax = plt.subplots(1, 2, figsize=(20, 10))\n",
    "ax[0].plot(df[\"ch2\"], df[\"train_loss\"], label=\"train_loss\")\n",
    "ax[0].plot(df[\"ch2\"], df[\"test_loss\"], label=\"test_loss\")\n",
    "ax[0].set_xlabel(\"ch2\")\n",
    "ax[0].set_ylabel(\"loss\")\n",
    "ax[0].legend()\n",
    "ax[1].plot(df[\"ch2\"], df[\"train_acc\"], label=\"train_acc\")\n",
    "ax[1].plot(df[\"ch2\"], df[\"test_acc\"], label=\"test_acc\")\n",
    "ax[1].set_xlabel(\"ch2\")\n",
    "ax[1].set_ylabel(\"accuracy\")\n",
    "ax[1].legend()\n",
    "\n",
    "plt.show()\n"
   ]
  },
  {
   "cell_type": "code",
   "execution_count": null,
   "metadata": {},
   "outputs": [
    {
     "data": {
      "image/png": "[encoded data removed]",
      "text/plain": [
       "<Figure size 1440x360 with 3 Axes>"
      ]
     },
     "metadata": {
      "needs_background": "light"
     },
     "output_type": "display_data"
    }
   ],
   "source": [
    "# graph loss and accuracy\n",
    "\n",
    "plt.figure(figsize=(20, 5))\n",
    "plt.subplot(1, 3, 1)\n",
    "plt.plot(history['train_loss'], label='train')\n",
    "plt.plot(history['test_loss'], label='test')\n",
    "plt.legend()\n",
    "plt.title('Loss')\n",
    "plt.subplot(1, 3, 2)\n",
    "plt.plot(history['train_acc'], label='train')\n",
    "plt.plot(history['test_acc'], label='test')\n",
    "plt.legend()\n",
    "plt.title('Accuracy')\n",
    "plt.subplot(1, 3, 3)\n",
    "plt.plot(history['lr'])\n",
    "plt.title('Learning rate')\n",
    "# plt.legend()\n",
    "plt.show()\n"
   ]
  },
  {
   "cell_type": "code",
   "execution_count": null,
   "metadata": {},
   "outputs": [
    {
     "data": {
      "image/png": "[encoded data removed]",
      "text/plain": [
       "<Figure size 720x720 with 2 Axes>"
      ]
     },
     "metadata": {
      "needs_background": "light"
     },
     "output_type": "display_data"
    },
    {
     "name": "stdout",
     "output_type": "stream",
     "text": [
      "Top 10 classes with the most errors:\n",
      "index class  (error count) \n",
      "1. plain (42)\n",
      "2. road (38)\n",
      "3. orange (34)\n",
      "4. cloud (32)\n",
      "5. oak_tree (32)\n",
      "6. motorcycle (31)\n",
      "7. skyscraper (30)\n",
      "8. chimpanzee (29)\n",
      "9. wardrobe (29)\n",
      "10. chair (28)\n"
     ]
    }
   ],
   "source": [
    "# find the last model\n",
    "net.load_state_dict(torch.load(\"model.pt\"))\n",
    "net.eval()\n",
    "\n",
    "# compute the confusion matrix\n",
    "\n",
    "confusion_matrix = np.zeros((100, 100), dtype=np.int32)\n",
    "\n",
    "with torch.no_grad():\n",
    "    for X, y in testloader:\n",
    "        X, y = X.to(mydev), y.to(mydev)\n",
    "        pred = net(X)\n",
    "        pred = pred.argmax(1)\n",
    "        for i in range(len(y)):\n",
    "            confusion_matrix[y[i], pred[i]] += 1\n",
    "\n",
    "# plot the confusion matrix\n",
    "\n",
    "plt.figure(figsize=(10, 10))\n",
    "plt.imshow(confusion_matrix)\n",
    "plt.colorbar()\n",
    "plt.xlabel('Predicted')\n",
    "plt.ylabel('Actual')\n",
    "plt.title('Confusion Matrix')\n",
    "plt.show()\n",
    "\n",
    "#  print the top 10 classes with the most errors\n",
    "\n",
    "print('Top 10 classes with the most errors:')\n",
    "print(\"index class  (error count) \")\n",
    "\n",
    "for i in range(10):\n",
    "    max_error = np.max(confusion_matrix)\n",
    "    max_error_index = np.argmax(confusion_matrix)\n",
    "    row = max_error_index // 100\n",
    "    col = max_error_index % 100\n",
    "    print(f'{i+1}. {classes[row]} ({max_error})')\n",
    "    confusion_matrix[row, :] = 0\n",
    "    confusion_matrix[:, col] = 0"
   ]
  }
 ],
 "metadata": {
  "kernelspec": {
   "display_name": "Python 3.10.6 64-bit",
   "language": "python",
   "name": "python3"
  },
  "language_info": {
   "codemirror_mode": {
    "name": "ipython",
    "version": 3
   },
   "file_extension": ".py",
   "mimetype": "text/x-python",
   "name": "python",
   "nbconvert_exporter": "python",
   "pygments_lexer": "ipython3",
   "version": "3.10.6"
  },
  "orig_nbformat": 4,
  "vscode": {
   "interpreter": {
    "hash": "916dbcbb3f70747c44a77c7bcd40155683ae19c65e1c03b4aa3499c5328201f1"
   }
  }
 },
 "nbformat": 4,
 "nbformat_minor": 2
}
